{
 "cells": [
  {
   "cell_type": "code",
   "execution_count": 65,
   "id": "5d34d98e",
   "metadata": {
    "scrolled": false
   },
   "outputs": [
    {
     "name": "stdout",
     "output_type": "stream",
     "text": [
      "        name  score  attempts qualify\n",
      "a  Anastasia   12.5         1     yes\n",
      "b       Dima    9.0         3      no\n",
      "c  Katherine   16.5         2     yes\n",
      "d      James    NaN         3      no\n",
      "e      Emily    9.0         2      no\n",
      "f    Michael   20.0         3     yes\n",
      "g    Matthew   14.5         1     yes\n",
      "h      Laura    NaN         1      no\n",
      "i      Kevin    8.0         2      no\n",
      "j      Jonas   19.0         1     yes\n",
      "Les 3 premières lignes de notre data frame est : \n",
      "        name  score  attempts qualify\n",
      "a  Anastasia   12.5         1     yes\n",
      "b       Dima    9.0         3      no\n",
      "c  Katherine   16.5         2     yes\n",
      "Affichage de nos données après la suppression d'une ligne\n",
      "        name  score  attempts qualify\n",
      "a  Anastasia   12.5         1     yes\n",
      "b       Dima    9.0         3      no\n",
      "c  Katherine   16.5         2     yes\n",
      "e      Emily    9.0         2      no\n",
      "f    Michael   20.0         3     yes\n",
      "g    Matthew   14.5         1     yes\n",
      "i      Kevin    8.0         2      no\n",
      "j      Jonas   19.0         1     yes\n",
      "Affichage de données des colonnes name et score :\n",
      "        name  score\n",
      "a  Anastasia   12.5\n",
      "b       Dima    9.0\n",
      "c  Katherine   16.5\n",
      "e      Emily    9.0\n",
      "f    Michael   20.0\n",
      "g    Matthew   14.5\n",
      "i      Kevin    8.0\n",
      "j      Jonas   19.0\n",
      "  Unnamed: 0       name  score  attempts qualify\n",
      "0          a  Anastasia   12.5         1     yes\n",
      "1          b       Dima    9.0         3      no\n",
      "2          c  Katherine   16.5         2     yes\n",
      "3          e      Emily    9.0         2      no\n",
      "4          f    Michael   20.0         3     yes\n",
      "5          g    Matthew   14.5         1     yes\n",
      "6          i      Kevin    8.0         2      no\n",
      "7          j      Jonas   19.0         1     yes\n"
     ]
    }
   ],
   "source": [
    "import pandas as pd\n",
    "import numpy as np\n",
    "exam_data = {'name': ['Anastasia', 'Dima', 'Katherine', 'James', 'Emily', 'Michael', 'Matthew', 'Laura', 'Kevin', 'Jonas'],\n",
    "'score': [12.5, 9, 16.5, np.nan, 9, 20, 14.5, np.nan, 8, 19],\n",
    "'attempts': [1, 3, 2, 3, 2, 3, 1, 1, 2, 1],\n",
    "'qualify': ['yes', 'no', 'yes', 'no', 'no', 'yes', 'yes', 'no', 'no', 'yes']}\n",
    "\n",
    "labels = ['a', 'b', 'c', 'd', 'e', 'f', 'g', 'h', 'i', 'j']\n",
    "\n",
    "df = pd.DataFrame(exam_data, index=labels)\n",
    "#df = df.set_index([labels])\n",
    "print(df)\n",
    "# affichage des 3 première ligne de notre dataFrame\n",
    "print('Les 3 premières lignes de notre data frame est : ')\n",
    "print(df.head(3))\n",
    "#Supprimer les lignes qui ont comme score NaN\n",
    "df = df.drop([\"d\", \"h\"], axis=0)\n",
    "print(\"Affichage de nos données après la suppression d'une ligne\")\n",
    "print(df)\n",
    "\n",
    "#extraction des colonnes name et score\n",
    "print(\"Affichage de données des colonnes name et score :\")\n",
    "print(df[[\"name\", \"score\"]])\n",
    "\n",
    "#importation dataframe vers csv\n",
    "df.to_csv('data.csv')\n",
    "new_data = pd.read_csv('data.csv')\n",
    "print(new_data)"
   ]
  },
  {
   "cell_type": "code",
   "execution_count": null,
   "id": "8371377b",
   "metadata": {},
   "outputs": [],
   "source": []
  }
 ],
 "metadata": {
  "kernelspec": {
   "display_name": "Python 3 (ipykernel)",
   "language": "python",
   "name": "python3"
  },
  "language_info": {
   "codemirror_mode": {
    "name": "ipython",
    "version": 3
   },
   "file_extension": ".py",
   "mimetype": "text/x-python",
   "name": "python",
   "nbconvert_exporter": "python",
   "pygments_lexer": "ipython3",
   "version": "3.11.4"
  }
 },
 "nbformat": 4,
 "nbformat_minor": 5
}
