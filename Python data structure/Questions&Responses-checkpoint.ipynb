{
 "cells": [
  {
   "cell_type": "code",
   "execution_count": 4,
   "id": "476ea72d",
   "metadata": {},
   "outputs": [
    {
     "name": "stdout",
     "output_type": "stream",
     "text": [
      "The product of the list items is: 120\n",
      "The product of the list items is: 120\n"
     ]
    }
   ],
   "source": [
    "#  -------------------------------------------------QESTION 1-----------------------------------------\n",
    "\n",
    "# -------------répondre à la question en utilisant une fonction---------------\n",
    "def multiply_list_items(input_list):\n",
    "    result = 1  # Initialize the result to 1\n",
    "\n",
    "    for item in input_list:\n",
    "        result *= item  # Multiply the result by each item in the list\n",
    "    return result\n",
    "\n",
    "# Example usage:\n",
    "my_list = [2, 3, 4, 5]\n",
    "result = multiply_list_items(my_list)\n",
    "print(f\"The product of the list items is: {result}\")\n",
    "\n",
    "\n",
    "#-------------répondre à la question en utilisant une liste----------------\n",
    "my_list = [2, 3, 4, 5] # Initialize a list of numbers\n",
    "result = 1 # Initialize a variable to store the result\n",
    "\n",
    "# Multiply each item in the list with the result\n",
    "for item in my_list:\n",
    "    result = result*item\n",
    "\n",
    "# Print the result\n",
    "print(f\"The product of the list items is: {result}\")\n"
   ]
  },
  {
   "cell_type": "code",
   "execution_count": 13,
   "id": "f4786bd9",
   "metadata": {},
   "outputs": [
    {
     "name": "stdout",
     "output_type": "stream",
     "text": [
      "Sorted list in increasing order by the last element:\n",
      "[(2, 1), (1, 2), (2, 3), (4, 4), (2, 5)]\n",
      "Sorted list in increasing order by the last element:\n",
      "[(2, 1), (1, 2), (2, 3), (4, 4), (2, 5)]\n"
     ]
    }
   ],
   "source": [
    "#  -------------------------------------------------QESTION 2--------------------------------------------\n",
    "\n",
    "#----------------Répond à la question en utilisant une fonction qui returne le dernier élément d'un tuple------------\n",
    "# Function to get the last element of a tuple\n",
    "def get_last_element(t):\n",
    "    return t[-1]\n",
    "\n",
    "input_list = [(2, 5), (1, 2), (4, 4), (2, 3), (2, 1)]  # Given list of non-empty tuples\n",
    "sorted_list = sorted(input_list, key=get_last_element)  # Sort the list based on the last element of each tuple\n",
    "print(\"Sorted list in increasing order by the last element:\")  # Print the sorted list\n",
    "print(sorted_list)\n",
    "\n",
    "\n",
    "#----------------Répond à la question en utilisant la fonction sort(trie) ------------------\n",
    "input_list = [(2, 5), (1, 2), (4, 4), (2, 3), (2, 1)] # Given list of non-empty tuples\n",
    "\n",
    "input_list.sort(key=lambda x:x[1])  # Sort the list based on the last element of each tuple\n",
    "\n",
    "# Print the sorted list\n",
    "print(\"Sorted list in increasing order by the last element:\")\n",
    "print(input_list)\n"
   ]
  },
  {
   "cell_type": "code",
   "execution_count": 20,
   "id": "7a4f7c97",
   "metadata": {},
   "outputs": [
    {
     "name": "stdout",
     "output_type": "stream",
     "text": [
      "Combined Dictionary:\n",
      "{'a': 400, 'b': 400, 'c': 300, 'd': 400}\n"
     ]
    }
   ],
   "source": [
    "#  -------------------------------------------------QESTION 3---------------------------------------------\n",
    "\n",
    "# Two dictionaries\n",
    "d1 = {'a': 100, 'b': 200, 'c':300}\n",
    "d2 = {'a': 300, 'b': 200, 'd':400}\n",
    "\n",
    "# Initialize a new dictionary to store the combined result\n",
    "combined_dict = {}\n",
    "\n",
    "# Iterate through keys in both dictionaries\n",
    "for key in d1.keys():\n",
    "    if key in d2.keys():\n",
    "        combined_dict[key] = d1[key] + d2[key]\n",
    "    else:\n",
    "        combined_dict[key] = d1[key]\n",
    "\n",
    "# Add keys from dict2 that are not in dict1\n",
    "for key in d2.keys():\n",
    "    if key not in d1.keys():\n",
    "        combined_dict[key] = d2[key]\n",
    "\n",
    "# Print the combined dictionary\n",
    "print(\"Combined Dictionary:\")\n",
    "print(combined_dict)\n"
   ]
  },
  {
   "cell_type": "code",
   "execution_count": 25,
   "id": "2f1e526d",
   "metadata": {},
   "outputs": [
    {
     "name": "stdout",
     "output_type": "stream",
     "text": [
      "Enter an integer (n): 5\n",
      "{1: 1, 2: 4, 3: 9, 4: 16, 5: 25}\n"
     ]
    }
   ],
   "source": [
    "#  -------------------------------------------------QESTION 4-----------------------------------------\n",
    "\n",
    "n = int(input(\"Enter an integer (n): \"))  # Get the input value of n\n",
    "dico = {}  # Initialize an empty dictionary\n",
    "\n",
    "# Generate the dictionary with (i, i*i) pairs for i from 1 to n\n",
    "for i in range(1, n+1):\n",
    "    dico[i] = i * i\n",
    "\n",
    "# Print the generated dictionary\n",
    "print(dico)\n"
   ]
  },
  {
   "cell_type": "code",
   "execution_count": null,
   "id": "4f241cfe",
   "metadata": {},
   "outputs": [],
   "source": [
    "#  -------------------------------------------------QESTION 5---------------------------------------------"
   ]
  },
  {
   "cell_type": "code",
   "execution_count": null,
   "id": "0689f401",
   "metadata": {},
   "outputs": [],
   "source": [
    "#  -------------------------------------------------QESTION 6-----------------------------------------"
   ]
  }
 ],
 "metadata": {
  "kernelspec": {
   "display_name": "Python 3 (ipykernel)",
   "language": "python",
   "name": "python3"
  },
  "language_info": {
   "codemirror_mode": {
    "name": "ipython",
    "version": 3
   },
   "file_extension": ".py",
   "mimetype": "text/x-python",
   "name": "python",
   "nbconvert_exporter": "python",
   "pygments_lexer": "ipython3",
   "version": "3.11.4"
  }
 },
 "nbformat": 4,
 "nbformat_minor": 5
}
