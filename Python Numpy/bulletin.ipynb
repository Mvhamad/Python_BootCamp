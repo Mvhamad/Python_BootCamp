{
 "cells": [
  {
   "cell_type": "code",
   "execution_count": 9,
   "id": "6f15d110",
   "metadata": {},
   "outputs": [
    {
     "name": "stdout",
     "output_type": "stream",
     "text": [
      "Donnez le nombre d'étubiants :5\n",
      "Donnez le nombre de matières :5\n",
      "[[0. 0. 0. 0. 0.]\n",
      " [0. 0. 0. 0. 0.]\n",
      " [0. 0. 0. 0. 0.]\n",
      " [0. 0. 0. 0. 0.]\n",
      " [0. 0. 0. 0. 0.]]\n"
     ]
    }
   ],
   "source": [
    "import numpy as np #importation de la biblio numpy\n",
    "\n",
    "num_etudiant = int(input(\"Donnez le nombre d'étubiants :\")) #variable qui stocke le nombre d'étudiants\n",
    "num_matiere = int(input(\"Donnez le nombre de matières :\")) #variable qui stocke le nombre de matières\n",
    "\n",
    "# création d'un tableau qui stocke la note de chaque étudiant dans chaque matière\n",
    "note = np.zeros((num_etudiant, num_matiere), dtype = float)\n",
    "print(note)"
   ]
  },
  {
   "cell_type": "code",
   "execution_count": 4,
   "id": "89dbdb5c",
   "metadata": {},
   "outputs": [
    {
     "name": "stdout",
     "output_type": "stream",
     "text": [
      "Enter the number of students: 2\n",
      "Enter the number of subjects: 2\n",
      "Enter marks for student 1:\n",
      "Enter marks for subject 1: 50\n",
      "Enter marks for subject 2: 70\n",
      "Enter marks for student 2:\n",
      "Enter marks for subject 1: 70\n",
      "Enter marks for subject 2: 5\n",
      "\n",
      "Student\tTotal Marks\tPercentage\tGrade\n",
      "Student 1\t120.0\t\t60.00%\t\tB\n",
      "Student 2\t75.0\t\t37.50%\t\tF\n"
     ]
    }
   ],
   "source": [
    "import numpy as np\n",
    "\n",
    "# Step 2: Ask the user for the number of students and subjects\n",
    "num_students = int(input(\"Enter the number of students: \"))\n",
    "num_subjects = int(input(\"Enter the number of subjects: \"))\n",
    "\n",
    "# Create a NumPy array to store marks (initialize with zeros)\n",
    "marks = np.zeros((num_students, num_subjects), dtype=float)\n",
    "\n",
    "# Step 4: Ask the user to enter the marks for each student in each subject\n",
    "for i in range(num_students):\n",
    "    print(f\"Enter marks for student {i + 1}:\")\n",
    "    for j in range(num_subjects):\n",
    "        marks[i][j] = float(input(f\"Enter marks for subject {j + 1}: \"))\n",
    "\n",
    "# Step 5: Calculate total marks for each student\n",
    "total_marks = np.sum(marks, axis=1)\n",
    "\n",
    "# Step 6: Calculate the percentage for each student\n",
    "percentage = (total_marks / (num_subjects * 100)) * 100\n",
    "\n",
    "# Step 7: Calculate the grade for each student based on the grading system\n",
    "grades = []\n",
    "for percent in percentage:\n",
    "    if percent >= 90:\n",
    "        grades.append(\"A+\")\n",
    "    elif percent >= 80:\n",
    "        grades.append(\"A\")\n",
    "5        grades.append(\"B+\")\n",
    "    elif percent >= 60:\n",
    "        grades.append(\"B\")\n",
    "    elif percent >= 50:\n",
    "        grades.append(\"C\")\n",
    "    else:\n",
    "        grades.append(\"F\")\n",
    "\n",
    "# Step 8: Display the results in a tabular format\n",
    "print(\"\\nStudent\\tTotal Marks\\tPercentage\\tGrade\")\n",
    "for i in range(num_students):\n",
    "    print(f\"Student {i + 1}\\t{total_marks[i]}\\t\\t{percentage[i]:.2f}%\\t\\t{grades[i]}\")\n"
   ]
  },
  {
   "cell_type": "code",
   "execution_count": 16,
   "id": "2a586619",
   "metadata": {},
   "outputs": [
    {
     "name": "stdout",
     "output_type": "stream",
     "text": [
      "2\n",
      "21\n",
      "6\n",
      "15\n",
      "[5 7 9]\n"
     ]
    }
   ],
   "source": [
    "a = np.array([[1,2,3], [4,5,6]])\n",
    "numbers = [1, 2, 3, 4, 5, 6]\n",
    "print(len(a))\n",
    "print(sum(numbers))\n",
    "for i in range(len(a)):\n",
    "    print(sum(a[i]))\n",
    "print(sum(a))"
   ]
  },
  {
   "cell_type": "code",
   "execution_count": null,
   "id": "8e9d5a2c",
   "metadata": {},
   "outputs": [],
   "source": []
  }
 ],
 "metadata": {
  "kernelspec": {
   "display_name": "Python 3 (ipykernel)",
   "language": "python",
   "name": "python3"
  },
  "language_info": {
   "codemirror_mode": {
    "name": "ipython",
    "version": 3
   },
   "file_extension": ".py",
   "mimetype": "text/x-python",
   "name": "python",
   "nbconvert_exporter": "python",
   "pygments_lexer": "ipython3",
   "version": "3.11.4"
  }
 },
 "nbformat": 4,
 "nbformat_minor": 5
}
