{
 "cells": [
  {
   "cell_type": "code",
   "execution_count": 1,
   "id": "110b29fe",
   "metadata": {},
   "outputs": [
    {
     "name": "stdout",
     "output_type": "stream",
     "text": [
      "Guess the secret number (between 1 and 100): 5\n",
      "Too low! Try again.\n",
      "Guess the secret number (between 1 and 100): 50\n",
      "Too high! Try again.\n",
      "Guess the secret number (between 1 and 100): 25\n",
      "Too high! Try again.\n",
      "Guess the secret number (between 1 and 100): 37\n",
      "Too high! Try again.\n",
      "Guess the secret number (between 1 and 100): 31\n",
      "Too high! Try again.\n",
      "Guess the secret number (between 1 and 100): 14\n",
      "Too low! Try again.\n",
      "Guess the secret number (between 1 and 100): 15\n",
      "Too low! Try again.\n",
      "Guess the secret number (between 1 and 100): 24\n",
      "Too high! Try again.\n",
      "Guess the secret number (between 1 and 100): 20\n",
      "Too high! Try again.\n",
      "Guess the secret number (between 1 and 100): 18\n",
      "Too high! Try again.\n",
      "Guess the secret number (between 1 and 100): 17\n",
      "Congratulations! You guessed the secret number 17 in 11 attempts.\n"
     ]
    }
   ],
   "source": [
    "import random\n",
    "\n",
    "# Generate a random number between 1 and 100\n",
    "secret_number = random.randint(1, 100)\n",
    "\n",
    "# Initialize the number of attempts\n",
    "attempts = 0\n",
    "\n",
    "# Start the game loop\n",
    "while True:\n",
    "    # Prompt the player to enter their guess as a string\n",
    "    guess_str = input(\"Guess the secret number (between 1 and 100): \")\n",
    "    \n",
    "    # Convert the player's guess to an integer\n",
    "    guess = int(guess_str)\n",
    "    \n",
    "    # Increase the number of attempts\n",
    "    attempts += 1\n",
    "    \n",
    "    # Check if the guess is too high, too low, or correct\n",
    "    if guess < secret_number:\n",
    "        print(\"Too low! Try again.\")\n",
    "    elif guess > secret_number:\n",
    "        print(\"Too high! Try again.\")\n",
    "    else:\n",
    "        print(f\"Congratulations! You guessed the secret number {secret_number} in {attempts} attempts.\")\n",
    "        break  # Exit the loop when the guess is correct\n"
   ]
  },
  {
   "cell_type": "code",
   "execution_count": 2,
   "id": "bd45504f",
   "metadata": {},
   "outputs": [
    {
     "name": "stdout",
     "output_type": "stream",
     "text": [
      "Donnez un nombre compris entre 1 et 100 : 15\n",
      "Too low! Try again\n",
      "Donnez un nombre compris entre 1 et 100 : 25\n",
      "Too low! Try again\n",
      "Donnez un nombre compris entre 1 et 100 : 30\n",
      "Too low! Try again\n",
      "Donnez un nombre compris entre 1 et 100 : 40\n",
      "Too low! Try again\n",
      "Donnez un nombre compris entre 1 et 100 : 50\n",
      "Too High! Try again\n",
      "Donnez un nombre compris entre 1 et 100 : 45\n",
      "Too High! Try again\n",
      "Donnez un nombre compris entre 1 et 100 : 43\n",
      "Too High! Try again\n",
      "Donnez un nombre compris entre 1 et 100 : 42\n",
      "Too High! Try again\n",
      "Donnez un nombre compris entre 1 et 100 : 41\n",
      "Congratulations! You guessed the secret number 41 in 9 attempts\n"
     ]
    }
   ],
   "source": [
    "import random\n",
    "réponse = random.randint(1, 100)\n",
    "essaie = 0\n",
    "\n",
    "while True:\n",
    "    guess_str = input(\"Donnez un nombre compris entre 1 et 100 : \")\n",
    "    guess_int = int(guess_str)\n",
    "    essaie = essaie + 1\n",
    "    if guess_int > réponse :\n",
    "        print(\"Too High! Try again\")\n",
    "    elif guess_int < réponse:\n",
    "        print(\"Too low! Try again\")\n",
    "    else:\n",
    "        print(\"Congratulations! You guessed the secret number\", guess_int, \"in\", essaie, \"attempts\")\n",
    "        break"
   ]
  },
  {
   "cell_type": "code",
   "execution_count": null,
   "id": "fbf56846",
   "metadata": {},
   "outputs": [
    {
     "name": "stdout",
     "output_type": "stream",
     "text": [
      "Donnez un chiffre entre 1 et 100 : 50\n",
      "too low ! try again\n",
      "Donnez un chiffre entre 1 et 100 : 70\n",
      "too low ! try again\n",
      "Donnez un chiffre entre 1 et 100 : 80\n",
      "too low ! try again\n",
      "Donnez un chiffre entre 1 et 100 : 90\n",
      "too high ! try again\n",
      "Donnez un chiffre entre 1 et 100 : 85\n",
      "too low ! try again\n",
      "Donnez un chiffre entre 1 et 100 : 87\n",
      "too low ! try again\n",
      "Donnez un chiffre entre 1 et 100 : 88\n",
      "Congratulations! You guessed the secret number\n"
     ]
    }
   ],
   "source": [
    "import random\n",
    "solution = random.randint(1, 100)\n",
    "nombre = 0\n",
    "while nombre != solution:\n",
    "    nombre = input(\"Donnez un chiffre entre 1 et 100 : \")\n",
    "    guess = int(nombre)\n",
    "    if guess < solution:\n",
    "        print(\"too low ! try again\")\n",
    "    elif guess > solution:\n",
    "        print(\"too high ! try again\")\n",
    "    else:\n",
    "        print(\"Congratulations! You guessed the secret number\")"
   ]
  },
  {
   "cell_type": "code",
   "execution_count": 6,
   "id": "7eda6783",
   "metadata": {},
   "outputs": [
    {
     "name": "stdout",
     "output_type": "stream",
     "text": [
      "Donnez un chiffre entre 1 et 100 : 100\n",
      "too high! Try again.\n",
      "Donnez un chiffre entre 1 et 100 : 50\n",
      "too low! Try again.\n",
      "Donnez un chiffre entre 1 et 100 : 75\n",
      "too high! Try again.\n",
      "Donnez un chiffre entre 1 et 100 : 70\n",
      "too high! Try again.\n",
      "Donnez un chiffre entre 1 et 100 : 60\n",
      "too high! Try again.\n",
      "Donnez un chiffre entre 1 et 100 : 55\n",
      "too low! Try again.\n",
      "Donnez un chiffre entre 1 et 100 : 57\n",
      "too high! Try again.\n",
      "Donnez un chiffre entre 1 et 100 : 56\n",
      "Congratulations! You guessed the secret number.\n"
     ]
    }
   ],
   "source": [
    "import random\n",
    "solution = random.randint(1, 100)\n",
    "guess = 0\n",
    "\n",
    "while guess != solution:\n",
    "    guess = int(input(\"Donnez un chiffre entre 1 et 100 : \"))\n",
    "    if guess < solution:\n",
    "        print(\"too low! Try again.\")\n",
    "    elif guess > solution:\n",
    "        print(\"too high! Try again.\")\n",
    "    else:\n",
    "        print(\"Congratulations! You guessed the secret number.\")\n"
   ]
  },
  {
   "cell_type": "code",
   "execution_count": null,
   "id": "54d385a5",
   "metadata": {},
   "outputs": [],
   "source": []
  }
 ],
 "metadata": {
  "kernelspec": {
   "display_name": "Python 3 (ipykernel)",
   "language": "python",
   "name": "python3"
  },
  "language_info": {
   "codemirror_mode": {
    "name": "ipython",
    "version": 3
   },
   "file_extension": ".py",
   "mimetype": "text/x-python",
   "name": "python",
   "nbconvert_exporter": "python",
   "pygments_lexer": "ipython3",
   "version": "3.11.4"
  }
 },
 "nbformat": 4,
 "nbformat_minor": 5
}
